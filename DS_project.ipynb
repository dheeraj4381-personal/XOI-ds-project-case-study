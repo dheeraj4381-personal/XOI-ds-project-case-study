{
 "cells": [
  {
   "cell_type": "code",
   "execution_count": 2,
   "id": "eba256c8-a08c-4f46-b584-7a560e17bb55",
   "metadata": {},
   "outputs": [],
   "source": [
    "# Packages need to be imported\n",
    "\n",
    "import pandas as pd\n",
    "import regex as re\n",
    "import numpy as np\n",
    "from rapidfuzz import process, fuzz"
   ]
  },
  {
   "cell_type": "code",
   "execution_count": 3,
   "id": "b6ab5bf8-cb1b-437a-9006-bf6e13e54964",
   "metadata": {},
   "outputs": [],
   "source": [
    "file_path = '/Users/dheeraj.srivathsav/Downloads/'\n",
    "df = pd.read_excel(file_path + 'DS Case (1).xlsx', sheet_name = 'Make Model Count Data')"
   ]
  },
  {
   "cell_type": "code",
   "execution_count": 4,
   "id": "0fc9c70b-01e6-4fb0-8afd-e13e4f811400",
   "metadata": {},
   "outputs": [
    {
     "name": "stdout",
     "output_type": "stream",
     "text": [
      "['Case Instructions', 'Make Model Count Data']\n"
     ]
    }
   ],
   "source": [
    "sheets = pd.ExcelFile(file_path + 'DS Case (1).xlsx').sheet_names\n",
    "print(sheets)"
   ]
  },
  {
   "cell_type": "markdown",
   "id": "56be12c2-5580-46ae-9c7d-a5a907744839",
   "metadata": {},
   "source": [
    "## 1. Exploratory Data Analysis"
   ]
  },
  {
   "cell_type": "markdown",
   "id": "8be9a0fa-640d-4a7f-85fc-a272f3a3da77",
   "metadata": {},
   "source": [
    "#### Get unique number of makes and model present in the dataset\n"
   ]
  },
  {
   "cell_type": "code",
   "execution_count": 5,
   "id": "46a8abb0-20e6-4c27-9483-d3309ceae14a",
   "metadata": {},
   "outputs": [
    {
     "name": "stdout",
     "output_type": "stream",
     "text": [
      "No of Unique Makes: 13295, No of Unique Models: 909098\n"
     ]
    }
   ],
   "source": [
    "# Get unique number of makes and model present in the dataset\n",
    "no_of_unique_makes: int = df['Make'].nunique()\n",
    "no_of_unique_models: int  = df['Model'].nunique()\n",
    "print(f\"No of Unique Makes: {no_of_unique_makes}, No of Unique Models: {no_of_unique_models}\")"
   ]
  },
  {
   "cell_type": "markdown",
   "id": "bde4c86f-c388-4cf6-bd08-fbde6924f7c2",
   "metadata": {},
   "source": [
    "#### Check for missing values\n"
   ]
  },
  {
   "cell_type": "code",
   "execution_count": 6,
   "id": "7ab1f0ad-fb13-44b4-9223-1e11f905a921",
   "metadata": {},
   "outputs": [
    {
     "name": "stdout",
     "output_type": "stream",
     "text": [
      "Missing Make: 1542, Missing Model: 388\n"
     ]
    }
   ],
   "source": [
    "# Check for missing values\n",
    "missing_make = df['Make'].isnull().sum()\n",
    "missing_model = df['Model'].isnull().sum()\n",
    "print(f\"Missing Make: {missing_make}, Missing Model: {missing_model}\")"
   ]
  },
  {
   "cell_type": "code",
   "execution_count": 7,
   "id": "3c4422ba-47c7-4230-a331-1e10dd88d297",
   "metadata": {},
   "outputs": [
    {
     "data": {
      "text/html": [
       "<div>\n",
       "<style scoped>\n",
       "    .dataframe tbody tr th:only-of-type {\n",
       "        vertical-align: middle;\n",
       "    }\n",
       "\n",
       "    .dataframe tbody tr th {\n",
       "        vertical-align: top;\n",
       "    }\n",
       "\n",
       "    .dataframe thead th {\n",
       "        text-align: right;\n",
       "    }\n",
       "</style>\n",
       "<table border=\"1\" class=\"dataframe\">\n",
       "  <thead>\n",
       "    <tr style=\"text-align: right;\">\n",
       "      <th></th>\n",
       "      <th>Make</th>\n",
       "      <th>Model</th>\n",
       "      <th>Count</th>\n",
       "    </tr>\n",
       "  </thead>\n",
       "  <tbody>\n",
       "    <tr>\n",
       "      <th>3262</th>\n",
       "      <td>AAON</td>\n",
       "      <td>NaN</td>\n",
       "      <td>1</td>\n",
       "    </tr>\n",
       "    <tr>\n",
       "      <th>3265</th>\n",
       "      <td>AAON</td>\n",
       "      <td>NaN</td>\n",
       "      <td>13</td>\n",
       "    </tr>\n",
       "    <tr>\n",
       "      <th>11967</th>\n",
       "      <td>AAON INC</td>\n",
       "      <td>NaN</td>\n",
       "      <td>1</td>\n",
       "    </tr>\n",
       "    <tr>\n",
       "      <th>12742</th>\n",
       "      <td>ABB</td>\n",
       "      <td>NaN</td>\n",
       "      <td>14</td>\n",
       "    </tr>\n",
       "    <tr>\n",
       "      <th>13775</th>\n",
       "      <td>ADANDE</td>\n",
       "      <td>NaN</td>\n",
       "      <td>1</td>\n",
       "    </tr>\n",
       "    <tr>\n",
       "      <th>...</th>\n",
       "      <td>...</td>\n",
       "      <td>...</td>\n",
       "      <td>...</td>\n",
       "    </tr>\n",
       "    <tr>\n",
       "      <th>991176</th>\n",
       "      <td>YORK</td>\n",
       "      <td>NaN</td>\n",
       "      <td>5</td>\n",
       "    </tr>\n",
       "    <tr>\n",
       "      <th>991177</th>\n",
       "      <td>YORK</td>\n",
       "      <td>NaN</td>\n",
       "      <td>23</td>\n",
       "    </tr>\n",
       "    <tr>\n",
       "      <th>1012988</th>\n",
       "      <td>YORK INTERNATIONAL</td>\n",
       "      <td>NaN</td>\n",
       "      <td>1</td>\n",
       "    </tr>\n",
       "    <tr>\n",
       "      <th>1012994</th>\n",
       "      <td>YORK SERVICE</td>\n",
       "      <td>NaN</td>\n",
       "      <td>1</td>\n",
       "    </tr>\n",
       "    <tr>\n",
       "      <th>1013271</th>\n",
       "      <td>1013272</td>\n",
       "      <td>NaN</td>\n",
       "      <td>0</td>\n",
       "    </tr>\n",
       "  </tbody>\n",
       "</table>\n",
       "<p>388 rows × 3 columns</p>\n",
       "</div>"
      ],
      "text/plain": [
       "                       Make Model  Count\n",
       "3262                   AAON   NaN      1\n",
       "3265                   AAON   NaN     13\n",
       "11967              AAON INC   NaN      1\n",
       "12742                   ABB   NaN     14\n",
       "13775                ADANDE   NaN      1\n",
       "...                     ...   ...    ...\n",
       "991176                 YORK   NaN      5\n",
       "991177                 YORK   NaN     23\n",
       "1012988  YORK INTERNATIONAL   NaN      1\n",
       "1012994        YORK SERVICE   NaN      1\n",
       "1013271             1013272   NaN      0\n",
       "\n",
       "[388 rows x 3 columns]"
      ]
     },
     "execution_count": 7,
     "metadata": {},
     "output_type": "execute_result"
    }
   ],
   "source": [
    "# To know which make or models have null values\n",
    "df[df['Make'].isnull() == True]\n",
    "df[df['Model'].isnull() == True]"
   ]
  },
  {
   "cell_type": "code",
   "execution_count": 8,
   "id": "67abb773-00c2-4d9a-b23c-07c14a01c0b5",
   "metadata": {},
   "outputs": [
    {
     "data": {
      "text/plain": [
       "Make\n",
       "TRANE                    380024\n",
       "OTHER                    122725\n",
       "CARRIER                   80370\n",
       "YORK                      38416\n",
       "LENNOX                    24279\n",
       "DAIKIN                    16594\n",
       "RHEEM                     15861\n",
       "GOODMAN                   15627\n",
       "GREENHECK                 14814\n",
       "INTERNATIONAL COMFORT     12539\n",
       "AAON                      11515\n",
       "BRYANT                    10168\n",
       "LIEBERT                    9214\n",
       "MCQUAY                     7926\n",
       "MITSUBISHI                 7711\n",
       "HEATCRAFT                  7113\n",
       "LOREN COOK                 6988\n",
       "BARD                       6377\n",
       "RANE                       5791\n",
       "COPELAND                   5392\n",
       "Name: count, dtype: int64"
      ]
     },
     "execution_count": 8,
     "metadata": {},
     "output_type": "execute_result"
    }
   ],
   "source": [
    "df['Make'].value_counts().head(20)  # Top 20 most common 'Make' values\n",
    "# df['Model'].value_counts().head(20)  # Top 20 most common 'Model' values"
   ]
  },
  {
   "cell_type": "code",
   "execution_count": 9,
   "id": "aa577add-1488-4828-8991-58ab7d4d2e62",
   "metadata": {},
   "outputs": [],
   "source": [
    "## Clean the DF\n",
    "df.loc[:, 'Make'] = df['Make'].str.replace(r'[^a-zA-Z0-9 ]', '', regex=True)\n",
    "df['Make'] = df['Make'].astype('str')"
   ]
  },
  {
   "cell_type": "markdown",
   "id": "0a52115e-1169-44c1-b6a8-9c0cf6496b4a",
   "metadata": {},
   "source": [
    "#### Frequency distribution of top 10 Makes and models\n"
   ]
  },
  {
   "cell_type": "code",
   "execution_count": 10,
   "id": "823ee2ed-adf4-4fd3-9687-7341c54c3507",
   "metadata": {},
   "outputs": [
    {
     "data": {
      "image/png": "[encoded data removed]",
      "text/plain": [
       "<Figure size 640x480 with 1 Axes>"
      ]
     },
     "metadata": {},
     "output_type": "display_data"
    },
    {
     "data": {
      "image/png": "[encoded data removed]",
      "text/plain": [
       "<Figure size 640x480 with 1 Axes>"
      ]
     },
     "metadata": {},
     "output_type": "display_data"
    }
   ],
   "source": [
    "import matplotlib.pyplot as plt\n",
    "\n",
    "# Frequency distribution of top 10 Makes\n",
    "top_10_make = df['Make'].value_counts().head(10)\n",
    "top_10_make.plot(kind='bar', title='Top 10 Makes')\n",
    "plt.show()\n",
    "\n",
    "# Frequency distribution of top 10 Models\n",
    "top_10_model = df['Model'].value_counts().head(10)\n",
    "top_10_model.plot(kind='bar', title='Top 10 Models')\n",
    "plt.show()"
   ]
  },
  {
   "cell_type": "markdown",
   "id": "447958df-65fc-4999-b43b-89ab1f9c4d55",
   "metadata": {},
   "source": [
    "#### Calculate the string lengths of Make and Model\n"
   ]
  },
  {
   "cell_type": "code",
   "execution_count": 11,
   "id": "8aeaad1a-2562-44f8-ad64-d91a809d08c9",
   "metadata": {},
   "outputs": [],
   "source": [
    "df['make_length'] = df['Make'].str.len()\n",
    "df['model_length'] = df['Model'].str.len()\n",
    "\n",
    "# Identify Make/Model values with unusually short or long strings\n",
    "short_makes_df = df[df['make_length'] < 3] # Make with 2 chars doesn't see to be legit\n",
    "long_makes_df = df[df['model_length'] > 20]"
   ]
  },
  {
   "cell_type": "code",
   "execution_count": 12,
   "id": "aa76e1b3-5d59-4fbe-8e09-0eb77776cb27",
   "metadata": {},
   "outputs": [
    {
     "data": {
      "text/plain": [
       "array(['000', '1995', '1HANE', ..., 'YYYYYYYYYY', 'ZERO', ' SMITH'],\n",
       "      dtype=object)"
      ]
     },
     "execution_count": 12,
     "metadata": {},
     "output_type": "execute_result"
    }
   ],
   "source": [
    "# TO see what unique makes have short or long char len\n",
    "short_makes_df['Make'].unique()\n",
    "long_makes_df['Make'].unique()"
   ]
  },
  {
   "cell_type": "markdown",
   "id": "3b11b341-9c04-46da-8e6d-889c162ce566",
   "metadata": {},
   "source": [
    "#### Identify makes and models with only digits"
   ]
  },
  {
   "cell_type": "code",
   "execution_count": 13,
   "id": "e50194f5-0695-47d3-bb81-e948e45d3925",
   "metadata": {},
   "outputs": [
    {
     "name": "stdout",
     "output_type": "stream",
     "text": [
      "length of only digit makes: (87, 6), length of only digit makes: (6342, 7)\n"
     ]
    }
   ],
   "source": [
    "df['only_digit_make'] = df['Make'].str.contains(r'^\\d+$', na = False)\n",
    "only_digit_makes = df[df['only_digit_make'] == True] # 81 makes with only digits\n",
    "only_digit_makes.shape\n",
    "\n",
    "df['only_digit_models'] = df['Model'].str.contains(r'^\\d+$', na = False)\n",
    "only_digit_models = df[df['only_digit_models'] == True] # 81 makes with only digits\n",
    "only_digit_models.shape\n",
    "\n",
    "print(f\"length of only digit makes: {only_digit_makes.shape}, length of only digit makes: {only_digit_models.shape}\")"
   ]
  },
  {
   "cell_type": "markdown",
   "id": "14e4ef20-cb69-4433-9c03-a75fd6709ecf",
   "metadata": {},
   "source": [
    "#### Identify makes and models with only special characters\n"
   ]
  },
  {
   "cell_type": "code",
   "execution_count": 14,
   "id": "03d86c22-a4b2-43ab-b88f-8393cd0dbf58",
   "metadata": {},
   "outputs": [
    {
     "data": {
      "text/html": [
       "<div>\n",
       "<style scoped>\n",
       "    .dataframe tbody tr th:only-of-type {\n",
       "        vertical-align: middle;\n",
       "    }\n",
       "\n",
       "    .dataframe tbody tr th {\n",
       "        vertical-align: top;\n",
       "    }\n",
       "\n",
       "    .dataframe thead th {\n",
       "        text-align: right;\n",
       "    }\n",
       "</style>\n",
       "<table border=\"1\" class=\"dataframe\">\n",
       "  <thead>\n",
       "    <tr style=\"text-align: right;\">\n",
       "      <th></th>\n",
       "      <th>Make</th>\n",
       "      <th>Model</th>\n",
       "      <th>Count</th>\n",
       "      <th>make_length</th>\n",
       "      <th>model_length</th>\n",
       "      <th>only_digit_make</th>\n",
       "      <th>only_digit_models</th>\n",
       "      <th>only_special_chars_make</th>\n",
       "      <th>only_special_chars_model</th>\n",
       "    </tr>\n",
       "  </thead>\n",
       "  <tbody>\n",
       "    <tr>\n",
       "      <th>0</th>\n",
       "      <td></td>\n",
       "      <td>-</td>\n",
       "      <td>4</td>\n",
       "      <td>0</td>\n",
       "      <td>1.0</td>\n",
       "      <td>False</td>\n",
       "      <td>False</td>\n",
       "      <td>False</td>\n",
       "      <td>True</td>\n",
       "    </tr>\n",
       "    <tr>\n",
       "      <th>3</th>\n",
       "      <td></td>\n",
       "      <td>,</td>\n",
       "      <td>1</td>\n",
       "      <td>0</td>\n",
       "      <td>1.0</td>\n",
       "      <td>False</td>\n",
       "      <td>False</td>\n",
       "      <td>False</td>\n",
       "      <td>True</td>\n",
       "    </tr>\n",
       "    <tr>\n",
       "      <th>4</th>\n",
       "      <td></td>\n",
       "      <td>?</td>\n",
       "      <td>11</td>\n",
       "      <td>0</td>\n",
       "      <td>1.0</td>\n",
       "      <td>False</td>\n",
       "      <td>False</td>\n",
       "      <td>False</td>\n",
       "      <td>True</td>\n",
       "    </tr>\n",
       "    <tr>\n",
       "      <th>8</th>\n",
       "      <td></td>\n",
       "      <td>???</td>\n",
       "      <td>1</td>\n",
       "      <td>0</td>\n",
       "      <td>3.0</td>\n",
       "      <td>False</td>\n",
       "      <td>False</td>\n",
       "      <td>False</td>\n",
       "      <td>True</td>\n",
       "    </tr>\n",
       "    <tr>\n",
       "      <th>9</th>\n",
       "      <td></td>\n",
       "      <td>???????</td>\n",
       "      <td>1</td>\n",
       "      <td>0</td>\n",
       "      <td>7.0</td>\n",
       "      <td>False</td>\n",
       "      <td>False</td>\n",
       "      <td>False</td>\n",
       "      <td>True</td>\n",
       "    </tr>\n",
       "    <tr>\n",
       "      <th>...</th>\n",
       "      <td>...</td>\n",
       "      <td>...</td>\n",
       "      <td>...</td>\n",
       "      <td>...</td>\n",
       "      <td>...</td>\n",
       "      <td>...</td>\n",
       "      <td>...</td>\n",
       "      <td>...</td>\n",
       "      <td>...</td>\n",
       "    </tr>\n",
       "    <tr>\n",
       "      <th>956334</th>\n",
       "      <td>TURBO AIR</td>\n",
       "      <td>****</td>\n",
       "      <td>1</td>\n",
       "      <td>9</td>\n",
       "      <td>4.0</td>\n",
       "      <td>False</td>\n",
       "      <td>False</td>\n",
       "      <td>False</td>\n",
       "      <td>True</td>\n",
       "    </tr>\n",
       "    <tr>\n",
       "      <th>960219</th>\n",
       "      <td>UNIT44</td>\n",
       "      <td>?</td>\n",
       "      <td>1</td>\n",
       "      <td>6</td>\n",
       "      <td>1.0</td>\n",
       "      <td>False</td>\n",
       "      <td>False</td>\n",
       "      <td>False</td>\n",
       "      <td>True</td>\n",
       "    </tr>\n",
       "    <tr>\n",
       "      <th>960220</th>\n",
       "      <td>UNIT45</td>\n",
       "      <td>?</td>\n",
       "      <td>1</td>\n",
       "      <td>6</td>\n",
       "      <td>1.0</td>\n",
       "      <td>False</td>\n",
       "      <td>False</td>\n",
       "      <td>False</td>\n",
       "      <td>True</td>\n",
       "    </tr>\n",
       "    <tr>\n",
       "      <th>961083</th>\n",
       "      <td>UNSURE</td>\n",
       "      <td>?</td>\n",
       "      <td>1</td>\n",
       "      <td>6</td>\n",
       "      <td>1.0</td>\n",
       "      <td>False</td>\n",
       "      <td>False</td>\n",
       "      <td>False</td>\n",
       "      <td>True</td>\n",
       "    </tr>\n",
       "    <tr>\n",
       "      <th>968403</th>\n",
       "      <td>WEG</td>\n",
       "      <td>****</td>\n",
       "      <td>1</td>\n",
       "      <td>3</td>\n",
       "      <td>4.0</td>\n",
       "      <td>False</td>\n",
       "      <td>False</td>\n",
       "      <td>False</td>\n",
       "      <td>True</td>\n",
       "    </tr>\n",
       "  </tbody>\n",
       "</table>\n",
       "<p>93 rows × 9 columns</p>\n",
       "</div>"
      ],
      "text/plain": [
       "             Make    Model  Count  make_length  model_length  only_digit_make  \\\n",
       "0                        -      4            0           1.0            False   \n",
       "3                        ,      1            0           1.0            False   \n",
       "4                        ?     11            0           1.0            False   \n",
       "8                      ???      1            0           3.0            False   \n",
       "9                  ???????      1            0           7.0            False   \n",
       "...           ...      ...    ...          ...           ...              ...   \n",
       "956334  TURBO AIR     ****      1            9           4.0            False   \n",
       "960219     UNIT44        ?      1            6           1.0            False   \n",
       "960220     UNIT45        ?      1            6           1.0            False   \n",
       "961083     UNSURE        ?      1            6           1.0            False   \n",
       "968403        WEG     ****      1            3           4.0            False   \n",
       "\n",
       "        only_digit_models  only_special_chars_make only_special_chars_model  \n",
       "0                   False                    False                     True  \n",
       "3                   False                    False                     True  \n",
       "4                   False                    False                     True  \n",
       "8                   False                    False                     True  \n",
       "9                   False                    False                     True  \n",
       "...                   ...                      ...                      ...  \n",
       "956334              False                    False                     True  \n",
       "960219              False                    False                     True  \n",
       "960220              False                    False                     True  \n",
       "961083              False                    False                     True  \n",
       "968403              False                    False                     True  \n",
       "\n",
       "[93 rows x 9 columns]"
      ]
     },
     "execution_count": 14,
     "metadata": {},
     "output_type": "execute_result"
    }
   ],
   "source": [
    "# Identify makes and models with only special characters\n",
    "\n",
    "df['only_special_chars_make'] = df['Make'].str.contains(r'^[^\\w\\d\\s]+$')\n",
    "df[df['only_special_chars_make'] == True]\n",
    "\n",
    "df['only_special_chars_model'] = df['Model'].str.contains(r'^[^\\w\\d\\s]+$')\n",
    "df[df['only_special_chars_model'] == True]"
   ]
  },
  {
   "cell_type": "markdown",
   "id": "68b59638-8c0e-4524-b4e4-d6ef35739a5c",
   "metadata": {},
   "source": [
    "### Remove all invalid records"
   ]
  },
  {
   "cell_type": "markdown",
   "id": "54d197a8-80a6-451d-8244-353f77176262",
   "metadata": {},
   "source": [
    "#### Conditions to consider if records are invalid\n",
    "1. If length of the make or model is < 3 chars. They all seems invalid.\n",
    "2. If only digits are present in the make - They all seems invalid.\n",
    "3. If only special characters are present in Make, they are considered invalid\n",
    "4. If we have null, nans values in Make or Model\n",
    "5. Model with 'N/a' or '1' are invalid\n",
    "6. Model Unknown or TBD can also be considerd as invalid"
   ]
  },
  {
   "cell_type": "code",
   "execution_count": 15,
   "id": "7413a5d3-8dc5-4a22-9645-a5bd46b4b542",
   "metadata": {},
   "outputs": [
    {
     "name": "stdout",
     "output_type": "stream",
     "text": [
      "Shape of Invalid df (6749, 9), Shape of cleaned df (1006523, 9)\n"
     ]
    }
   ],
   "source": [
    "## Remove all unwanted rows with invalid data\n",
    "\n",
    "invalid_condition = (df['make_length'] < 3) | (df['model_length'] < 3) | (df['only_digit_make'] == True) | (df['only_special_chars_make'] == True) | (df['only_special_chars_model'] == True) | (df['Model'].isnull() == True)| (df['Make'] == 'nan')| (df['Model'] == '1') | (df['Model'] == 'N/a') | (df['Model'] == 'Unknown') | (df['Model'] == 'TBD')  \n",
    "invalid_df = df[invalid_condition]\n",
    "\n",
    "df_cleaned = df[~invalid_condition]\n",
    "\n",
    "df_cleaned.reset_index(drop=True, inplace=True)\n",
    "\n",
    "print(f\"Shape of Invalid df {invalid_df.shape}, Shape of cleaned df {df_cleaned.shape}\")"
   ]
  },
  {
   "cell_type": "code",
   "execution_count": 16,
   "id": "1adf4617-66d9-486a-b2ef-73bcfd4247ee",
   "metadata": {},
   "outputs": [
    {
     "data": {
      "text/html": [
       "<div>\n",
       "<style scoped>\n",
       "    .dataframe tbody tr th:only-of-type {\n",
       "        vertical-align: middle;\n",
       "    }\n",
       "\n",
       "    .dataframe tbody tr th {\n",
       "        vertical-align: top;\n",
       "    }\n",
       "\n",
       "    .dataframe thead th {\n",
       "        text-align: right;\n",
       "    }\n",
       "</style>\n",
       "<table border=\"1\" class=\"dataframe\">\n",
       "  <thead>\n",
       "    <tr style=\"text-align: right;\">\n",
       "      <th></th>\n",
       "      <th>Make</th>\n",
       "      <th>Model</th>\n",
       "      <th>Count</th>\n",
       "      <th>make_length</th>\n",
       "      <th>model_length</th>\n",
       "      <th>only_digit_make</th>\n",
       "      <th>only_digit_models</th>\n",
       "      <th>only_special_chars_make</th>\n",
       "      <th>only_special_chars_model</th>\n",
       "    </tr>\n",
       "  </thead>\n",
       "  <tbody>\n",
       "    <tr>\n",
       "      <th>0</th>\n",
       "      <td>00 IEBERT</td>\n",
       "      <td>VS070AUA1E1046C</td>\n",
       "      <td>1</td>\n",
       "      <td>9</td>\n",
       "      <td>15.0</td>\n",
       "      <td>False</td>\n",
       "      <td>False</td>\n",
       "      <td>False</td>\n",
       "      <td>False</td>\n",
       "    </tr>\n",
       "    <tr>\n",
       "      <th>1</th>\n",
       "      <td>00LIEBERT</td>\n",
       "      <td>CW181DC1A1S557</td>\n",
       "      <td>1</td>\n",
       "      <td>9</td>\n",
       "      <td>14.0</td>\n",
       "      <td>False</td>\n",
       "      <td>False</td>\n",
       "      <td>False</td>\n",
       "      <td>False</td>\n",
       "    </tr>\n",
       "    <tr>\n",
       "      <th>2</th>\n",
       "      <td>00LIEBERT</td>\n",
       "      <td>CW181DC1A1S911</td>\n",
       "      <td>1</td>\n",
       "      <td>9</td>\n",
       "      <td>14.0</td>\n",
       "      <td>False</td>\n",
       "      <td>False</td>\n",
       "      <td>False</td>\n",
       "      <td>False</td>\n",
       "    </tr>\n",
       "    <tr>\n",
       "      <th>3</th>\n",
       "      <td>00LIEBERT</td>\n",
       "      <td>DA150DP1AT909A</td>\n",
       "      <td>1</td>\n",
       "      <td>9</td>\n",
       "      <td>14.0</td>\n",
       "      <td>False</td>\n",
       "      <td>False</td>\n",
       "      <td>False</td>\n",
       "      <td>False</td>\n",
       "    </tr>\n",
       "    <tr>\n",
       "      <th>4</th>\n",
       "      <td>00LIEBERT</td>\n",
       "      <td>PFH037A-AH7</td>\n",
       "      <td>1</td>\n",
       "      <td>9</td>\n",
       "      <td>11.0</td>\n",
       "      <td>False</td>\n",
       "      <td>False</td>\n",
       "      <td>False</td>\n",
       "      <td>False</td>\n",
       "    </tr>\n",
       "    <tr>\n",
       "      <th>...</th>\n",
       "      <td>...</td>\n",
       "      <td>...</td>\n",
       "      <td>...</td>\n",
       "      <td>...</td>\n",
       "      <td>...</td>\n",
       "      <td>...</td>\n",
       "      <td>...</td>\n",
       "      <td>...</td>\n",
       "      <td>...</td>\n",
       "    </tr>\n",
       "    <tr>\n",
       "      <th>1006518</th>\n",
       "      <td>321034807</td>\n",
       "      <td>Compact800</td>\n",
       "      <td>1</td>\n",
       "      <td>10</td>\n",
       "      <td>10.0</td>\n",
       "      <td>False</td>\n",
       "      <td>False</td>\n",
       "      <td>False</td>\n",
       "      <td>False</td>\n",
       "    </tr>\n",
       "    <tr>\n",
       "      <th>1006519</th>\n",
       "      <td>SMITH</td>\n",
       "      <td>ENT-50 110</td>\n",
       "      <td>1</td>\n",
       "      <td>6</td>\n",
       "      <td>10.0</td>\n",
       "      <td>False</td>\n",
       "      <td>False</td>\n",
       "      <td>False</td>\n",
       "      <td>False</td>\n",
       "    </tr>\n",
       "    <tr>\n",
       "      <th>1006520</th>\n",
       "      <td>SMITH</td>\n",
       "      <td>GCG-50 400</td>\n",
       "      <td>1</td>\n",
       "      <td>6</td>\n",
       "      <td>10.0</td>\n",
       "      <td>False</td>\n",
       "      <td>False</td>\n",
       "      <td>False</td>\n",
       "      <td>False</td>\n",
       "    </tr>\n",
       "    <tr>\n",
       "      <th>1006521</th>\n",
       "      <td>SMITH</td>\n",
       "      <td>GCRL-40 400</td>\n",
       "      <td>1</td>\n",
       "      <td>6</td>\n",
       "      <td>11.0</td>\n",
       "      <td>False</td>\n",
       "      <td>False</td>\n",
       "      <td>False</td>\n",
       "      <td>False</td>\n",
       "    </tr>\n",
       "    <tr>\n",
       "      <th>1006522</th>\n",
       "      <td>RANE</td>\n",
       "      <td>CMPWPA221ALAEAAA</td>\n",
       "      <td>1</td>\n",
       "      <td>4</td>\n",
       "      <td>16.0</td>\n",
       "      <td>False</td>\n",
       "      <td>False</td>\n",
       "      <td>False</td>\n",
       "      <td>False</td>\n",
       "    </tr>\n",
       "  </tbody>\n",
       "</table>\n",
       "<p>1006523 rows × 9 columns</p>\n",
       "</div>"
      ],
      "text/plain": [
       "               Make             Model  Count  make_length  model_length  \\\n",
       "0         00 IEBERT   VS070AUA1E1046C      1            9          15.0   \n",
       "1         00LIEBERT    CW181DC1A1S557      1            9          14.0   \n",
       "2         00LIEBERT    CW181DC1A1S911      1            9          14.0   \n",
       "3         00LIEBERT    DA150DP1AT909A      1            9          14.0   \n",
       "4         00LIEBERT       PFH037A-AH7      1            9          11.0   \n",
       "...             ...               ...    ...          ...           ...   \n",
       "1006518   321034807        Compact800      1           10          10.0   \n",
       "1006519       SMITH        ENT-50 110      1            6          10.0   \n",
       "1006520       SMITH        GCG-50 400      1            6          10.0   \n",
       "1006521       SMITH       GCRL-40 400      1            6          11.0   \n",
       "1006522        RANE  CMPWPA221ALAEAAA      1            4          16.0   \n",
       "\n",
       "         only_digit_make  only_digit_models  only_special_chars_make  \\\n",
       "0                  False              False                    False   \n",
       "1                  False              False                    False   \n",
       "2                  False              False                    False   \n",
       "3                  False              False                    False   \n",
       "4                  False              False                    False   \n",
       "...                  ...                ...                      ...   \n",
       "1006518            False              False                    False   \n",
       "1006519            False              False                    False   \n",
       "1006520            False              False                    False   \n",
       "1006521            False              False                    False   \n",
       "1006522            False              False                    False   \n",
       "\n",
       "        only_special_chars_model  \n",
       "0                          False  \n",
       "1                          False  \n",
       "2                          False  \n",
       "3                          False  \n",
       "4                          False  \n",
       "...                          ...  \n",
       "1006518                    False  \n",
       "1006519                    False  \n",
       "1006520                    False  \n",
       "1006521                    False  \n",
       "1006522                    False  \n",
       "\n",
       "[1006523 rows x 9 columns]"
      ]
     },
     "execution_count": 16,
     "metadata": {},
     "output_type": "execute_result"
    }
   ],
   "source": [
    "df_cleaned"
   ]
  },
  {
   "cell_type": "markdown",
   "id": "86c86246-afa0-4134-a8a5-23688b47c0e6",
   "metadata": {},
   "source": [
    "## \"Make\" column Analysis"
   ]
  },
  {
   "cell_type": "code",
   "execution_count": 17,
   "id": "85e930fa-b106-4f56-9fc8-e83d976d3ec6",
   "metadata": {},
   "outputs": [
    {
     "data": {
      "text/plain": [
       "12771"
      ]
     },
     "execution_count": 17,
     "metadata": {},
     "output_type": "execute_result"
    }
   ],
   "source": [
    "# after removing invalid records\n",
    "unique_makes_after_cleaning = df['Make'].nunique()\n",
    "unique_makes_after_cleaning"
   ]
  },
  {
   "cell_type": "code",
   "execution_count": 18,
   "id": "778b39c2-68eb-451c-b21c-01722d27cfed",
   "metadata": {},
   "outputs": [
    {
     "data": {
      "text/plain": [
       "(1006523, 9)"
      ]
     },
     "execution_count": 18,
     "metadata": {},
     "output_type": "execute_result"
    }
   ],
   "source": [
    "df_cleaned.shape"
   ]
  },
  {
   "cell_type": "markdown",
   "id": "a062dcf8-ac67-47f8-969b-505c8d48c800",
   "metadata": {},
   "source": [
    "#### Data Coverage, Dominant Makes\n"
   ]
  },
  {
   "cell_type": "code",
   "execution_count": 19,
   "id": "04697f54-3cdd-4c6d-9cab-08e83f6fbd76",
   "metadata": {},
   "outputs": [
    {
     "name": "stdout",
     "output_type": "stream",
     "text": [
      "There are 491 makes that meet the threshold of minimum 20 models per make and cover 97.74 % of data. \n"
     ]
    }
   ],
   "source": [
    "make_counts = df_cleaned['Make'].value_counts().reset_index()\n",
    "\n",
    "# Rename the columns\n",
    "make_counts.columns = ['Make', 'count']\n",
    "\n",
    "min_no_of_records_per_make = 20\n",
    "dominant_makes_df = make_counts[make_counts['count'] >= min_no_of_records_per_make]\n",
    "no_of_makes_meeting_threshold = dominant_makes_df.shape[0]\n",
    "percentage_of_coverage = round(dominant_makes_df['count'].sum()/df_cleaned.shape[0] * 100, 2)\n",
    "\n",
    "print( f\"There are {no_of_makes_meeting_threshold} makes that meet the threshold of minimum {min_no_of_records_per_make} models per make and cover {percentage_of_coverage} % of data. \" )"
   ]
  },
  {
   "cell_type": "markdown",
   "id": "5c12d0a2-6f72-4253-ab93-4d919f1163f8",
   "metadata": {},
   "source": [
    "#### Analyze possible errors by looking at the rare Makes"
   ]
  },
  {
   "cell_type": "code",
   "execution_count": 20,
   "id": "f6b55020-b7fe-4bdc-9da2-cba63c612d14",
   "metadata": {},
   "outputs": [
    {
     "data": {
      "text/html": [
       "<div>\n",
       "<style scoped>\n",
       "    .dataframe tbody tr th:only-of-type {\n",
       "        vertical-align: middle;\n",
       "    }\n",
       "\n",
       "    .dataframe tbody tr th {\n",
       "        vertical-align: top;\n",
       "    }\n",
       "\n",
       "    .dataframe thead th {\n",
       "        text-align: right;\n",
       "    }\n",
       "</style>\n",
       "<table border=\"1\" class=\"dataframe\">\n",
       "  <thead>\n",
       "    <tr style=\"text-align: right;\">\n",
       "      <th></th>\n",
       "      <th>Make</th>\n",
       "      <th>count</th>\n",
       "    </tr>\n",
       "  </thead>\n",
       "  <tbody>\n",
       "    <tr>\n",
       "      <th>3849</th>\n",
       "      <td>NOPLATEFOUND</td>\n",
       "      <td>1</td>\n",
       "    </tr>\n",
       "    <tr>\n",
       "      <th>3850</th>\n",
       "      <td>NONDECAF</td>\n",
       "      <td>1</td>\n",
       "    </tr>\n",
       "    <tr>\n",
       "      <th>3851</th>\n",
       "      <td>NORTH AMERICAN ELECTRIC</td>\n",
       "      <td>1</td>\n",
       "    </tr>\n",
       "    <tr>\n",
       "      <th>3852</th>\n",
       "      <td>NOPICTURE</td>\n",
       "      <td>1</td>\n",
       "    </tr>\n",
       "    <tr>\n",
       "      <th>3853</th>\n",
       "      <td>NARSCO</td>\n",
       "      <td>1</td>\n",
       "    </tr>\n",
       "    <tr>\n",
       "      <th>...</th>\n",
       "      <td>...</td>\n",
       "      <td>...</td>\n",
       "    </tr>\n",
       "    <tr>\n",
       "      <th>12208</th>\n",
       "      <td>GRANBY INDUSTRIES</td>\n",
       "      <td>1</td>\n",
       "    </tr>\n",
       "    <tr>\n",
       "      <th>12209</th>\n",
       "      <td>GRANEVA</td>\n",
       "      <td>1</td>\n",
       "    </tr>\n",
       "    <tr>\n",
       "      <th>12210</th>\n",
       "      <td>GRNO</td>\n",
       "      <td>1</td>\n",
       "    </tr>\n",
       "    <tr>\n",
       "      <th>12211</th>\n",
       "      <td>GRANZOW</td>\n",
       "      <td>1</td>\n",
       "    </tr>\n",
       "    <tr>\n",
       "      <th>12212</th>\n",
       "      <td>321034807</td>\n",
       "      <td>1</td>\n",
       "    </tr>\n",
       "  </tbody>\n",
       "</table>\n",
       "<p>8364 rows × 2 columns</p>\n",
       "</div>"
      ],
      "text/plain": [
       "                          Make  count\n",
       "3849              NOPLATEFOUND      1\n",
       "3850                  NONDECAF      1\n",
       "3851   NORTH AMERICAN ELECTRIC      1\n",
       "3852                 NOPICTURE      1\n",
       "3853                    NARSCO      1\n",
       "...                        ...    ...\n",
       "12208        GRANBY INDUSTRIES      1\n",
       "12209                  GRANEVA      1\n",
       "12210                     GRNO      1\n",
       "12211                  GRANZOW      1\n",
       "12212                321034807      1\n",
       "\n",
       "[8364 rows x 2 columns]"
      ]
     },
     "execution_count": 20,
     "metadata": {},
     "output_type": "execute_result"
    }
   ],
   "source": [
    "rare_makes_df = make_counts[make_counts['count'] <= 1]\n",
    "rare_makes_df"
   ]
  },
  {
   "cell_type": "code",
   "execution_count": 21,
   "id": "b2963f32-0093-4fbd-89fe-0224c45dd8ed",
   "metadata": {
    "tags": []
   },
   "outputs": [],
   "source": [
    "# Go through the rare_df to understands the potential errors\n",
    "# rare_makes_df['Make'].to_list()[:50]"
   ]
  },
  {
   "cell_type": "markdown",
   "id": "26ac3199-ade3-4064-be9c-955662adb2fd",
   "metadata": {},
   "source": [
    "## 2. Characterize the types of errors we are getting in the Make values and determine the error records"
   ]
  },
  {
   "cell_type": "markdown",
   "id": "a1faa9e8-42da-457b-a7fc-b9d1bceb4249",
   "metadata": {},
   "source": [
    "#### Possible Reasons for Makes that are very rare:\n",
    "    \n",
    "##### 1. Either it could be a new equipment\n",
    "##### 2. Technicans rarely work on those type of makes\n",
    "##### 3. Due to OCR issues there could be serveral error possibilities."
   ]
  },
  {
   "cell_type": "code",
   "execution_count": 22,
   "id": "089ca02c-32f4-49d9-a26c-f737809c722e",
   "metadata": {
    "tags": []
   },
   "outputs": [
    {
     "data": {
      "text/plain": [
       "('PENNE3ARRY',\n",
       " 'PENNNBARRY',\n",
       " 'PENNEXINC',\n",
       " 'PENNENBERG',\n",
       " 'PENNEBARY',\n",
       " 'PENNEARY')"
      ]
     },
     "execution_count": 22,
     "metadata": {},
     "output_type": "execute_result"
    }
   ],
   "source": [
    "# Some Examples as per the rare_makes_df:\n",
    "# Makes that are same but due to some OCR or other issues its considered as a NEW make\n",
    "\n",
    "'PEERELESS','PEERLESSBOILER', 'PEERIESS', 'PEEMESS', 'PEERLESS BOILERS'\n",
    "'WWW. BRADFORD WHIT', 'WWW.BRADFORDWHIT', 'WWW.BRADFORDWHITE.COM', 'WWWBRADFORDWHITE', 'WWW.BRADFORDWHITE.', '(WWWBRADFORDWHITE'\n",
    "'MITSUBISHI', 'MITHUBIEHI', 'MITAUBIBHI', 'MITSUBISHI ELECTRIC', 'MITSUBISHI ELECTRIC CORPORATION', 'MIT JUBISHI'\n",
    "'PENNE3ARRY', 'PENNNBARRY', 'PENNEXINC', 'PENNENBERG', 'PENNEBARY', 'PENNEARY',"
   ]
  },
  {
   "cell_type": "markdown",
   "id": "e347bc5f-1f94-4bd8-bb7f-e6a7107f3dc7",
   "metadata": {},
   "source": [
    "### The errors in \"Make\" Values typically fall into the following categories:\n",
    "\n",
    "### OCR Errors:\n",
    "\n",
    "##### OCR mistakes: A letter is misread, such as \"GOOUMAN\" instead of \"GOODMAN\", \"L3NNOX\" instead of \"LENNOX\".\n",
    "\n",
    "### Missing or Extra Characters:\n",
    "\n",
    "##### Missing characters: Parts of the make are missing, such as \"CARRER\" instead of \"CARRIER\".\n",
    "##### Extra characters: Extra letters or numbers in the name, such as \"LENNOXX\" instead of \"LENNOX\".\n",
    "\n",
    "### Merged Words:\n",
    "\n",
    "##### Concatenated makes: Some makes may be merged, e.g., \"PEERLESSBOILER\" instead of \"PEERLESS BOILERS\".\n",
    "##### Hyphenated or non-hyphenated issues: Sometimes, brands with compound words are written incorrectly, e.g., \"BRYANTDAYNIGHT\" instead of \"BRYANT DAY & NIGHT\".\n",
    "\n",
    "### Incorrect Use of Special Characters:\n",
    "\n",
    "##### Extra spaces, special characters: Like 'WWWBRADFORDWHITE', 'WWW.BRADFORDWHITE.', '(WWWBRADFORDWHITE'.\n",
    "##### No Space: \"BRYANTDAY&NIGHT\" instead of \"BRYANT DAY & NIGHT\".\n",
    "\n",
    "### Duplication\n",
    "\n",
    "##### Repetition: Same word appearing twice 'TRANE TRANE',\n",
    "\n",
    "### Abbreviations or Truncations:\n",
    "\n",
    "##### Shortened forms: Like \"TRN\" for \"TRANE\" or \"RHM\" for \"RHEEM\".\n",
    "##### Acronyms: Users may use acronyms for makes/models (e.g., \"GDM\" for \"GOODMAN\").\n"
   ]
  },
  {
   "cell_type": "markdown",
   "id": "c277b946-26e3-4cdd-999a-69c85c349f8b",
   "metadata": {},
   "source": [
    "## 3. Determine how we can map erroneous Make values to correct Makes"
   ]
  },
  {
   "cell_type": "code",
   "execution_count": 23,
   "id": "7761850c-c36b-4e8e-a4a5-dc63837851cc",
   "metadata": {},
   "outputs": [],
   "source": [
    "# Clean the Dataset by removing special characters from Make"
   ]
  },
  {
   "cell_type": "code",
   "execution_count": 24,
   "id": "39c40650-cc85-4e73-a2af-96c9b3974e0c",
   "metadata": {},
   "outputs": [],
   "source": [
    "# df_cleaned['Make'] = df_cleaned['Make'].apply(lambda x:remove_special_chars(x))"
   ]
  },
  {
   "cell_type": "code",
   "execution_count": 25,
   "id": "12250a9b-1959-48e0-b6d5-d0ec0f90452d",
   "metadata": {},
   "outputs": [
    {
     "name": "stdout",
     "output_type": "stream",
     "text": [
      "There are 491 makes that meet the threshold of minimum 20 models per make and cover 97.74 % of data. \n",
      "There are 11722 makes that does not meet the threshold of minimum 20 models per make and cover 2.26 % of data. \n"
     ]
    }
   ],
   "source": [
    "make_counts = df_cleaned['Make'].value_counts().reset_index()\n",
    "\n",
    "# Rename the columns\n",
    "make_counts.columns = ['Make', 'count']\n",
    "\n",
    "min_no_of_records_per_make = 20\n",
    "dominant_makes_df = make_counts[make_counts['count'] >= min_no_of_records_per_make]\n",
    "dominant_makes_meeting_threshold = dominant_makes_df.shape[0]\n",
    "percentage_of_dominant_makes_coverage = round(dominant_makes_df['count'].sum()/df_cleaned.shape[0] * 100, 2)\n",
    "\n",
    "rare_makes_df = make_counts[make_counts['count'] < min_no_of_records_per_make]\n",
    "rare_makes_meeting_threshold = rare_makes_df.shape[0]\n",
    "percentage_of_rare_makes_coverage = round(rare_makes_df['count'].sum()/df_cleaned.shape[0] * 100, 2)\n",
    "\n",
    "print( f\"There are {dominant_makes_meeting_threshold} makes that meet the threshold of minimum {min_no_of_records_per_make} models per make and cover {percentage_of_dominant_makes_coverage} % of data. \" )\n",
    "\n",
    "print( f\"There are {rare_makes_meeting_threshold} makes that does not meet the threshold of minimum {min_no_of_records_per_make} models per make and cover {percentage_of_rare_makes_coverage} % of data. \" )\n"
   ]
  },
  {
   "cell_type": "markdown",
   "id": "d082686b-4aa7-400e-ba89-94dd7191a4ae",
   "metadata": {},
   "source": [
    "### Correcting the dominant_makes"
   ]
  },
  {
   "cell_type": "code",
   "execution_count": 26,
   "id": "20f650c4-c0b9-4968-ab44-754bdedaf690",
   "metadata": {
    "tags": []
   },
   "outputs": [
    {
     "name": "stdout",
     "output_type": "stream",
     "text": [
      "1st iteration length of correct makes -  257\n"
     ]
    }
   ],
   "source": [
    "# Picked makes that have atleast 70 models - and treat it as the correct_makes\n",
    "correct_makes = dominant_makes_df[dominant_makes_df['count'] > 70]['Make'].to_list()\n",
    "# correct_makes\n",
    "temp_df = dominant_makes_df[dominant_makes_df['count'] > 70]\n",
    "correct_makes_dict = dict(zip(temp_df['Make'], temp_df['count']))\n",
    "\n",
    "print(f'1st iteration length of correct makes -  {len(correct_makes_dict)}')"
   ]
  },
  {
   "cell_type": "code",
   "execution_count": 27,
   "id": "266b7555-1375-4b62-9aa2-876c4b421456",
   "metadata": {},
   "outputs": [],
   "source": [
    "# Function to find the best match for a make using correct_makes_dict\n",
    "def get_best_match(record, correct_makes_dict, threshold=80):\n",
    "    \n",
    "    current_make = record['Make']\n",
    "    current_make_count = record['count']\n",
    "    match_found = False\n",
    "    for correct_make, correct_make_count in correct_makes_dict.items():\n",
    "        if current_make != correct_make:\n",
    "            # match, score, _ = process.extractOne(make, correct_makes, scorer=fuzz.ratio)\n",
    "            score = fuzz.ratio(current_make, correct_make)\n",
    "            if score >= threshold:      \n",
    "                # print(f\"correct_make - {correct_make} and count {correct_make_count}\")\n",
    "                # print(f\"current_make - {current_make} and count {current_make_count}\")\n",
    "                if correct_make_count > current_make_count:\n",
    "                    # print('higher score match')\n",
    "                    match_found = True\n",
    "                    break\n",
    "                elif len(str(correct_make)) > len(str(current_make)):\n",
    "                    # print('len match')\n",
    "                    match_found = True\n",
    "                    break\n",
    "    if match_found:\n",
    "        # print('*****match_found******')\n",
    "        return correct_make\n",
    "    else:\n",
    "        return '' "
   ]
  },
  {
   "cell_type": "code",
   "execution_count": 28,
   "id": "13c230f3-4e66-47e2-a27b-dfb68c73d404",
   "metadata": {
    "tags": []
   },
   "outputs": [],
   "source": [
    "dominant_makes_df = dominant_makes_df.copy()\n",
    "dominant_makes_df.loc[:, 'corrected_make'] = dominant_makes_df.apply(lambda x:get_best_match(x, correct_makes_dict), axis=1)"
   ]
  },
  {
   "cell_type": "code",
   "execution_count": 29,
   "id": "04104efb-1393-489a-ada7-8a12e3c92d53",
   "metadata": {},
   "outputs": [
    {
     "name": "stdout",
     "output_type": "stream",
     "text": [
      "After 2nd iteration makes that need to be corrected -  103\n"
     ]
    }
   ],
   "source": [
    "correction_needed_make_df = dominant_makes_df[dominant_makes_df['corrected_make'] != '']\n",
    "# Create dictionary from 'make' and 'corrected_make' columns\n",
    "correction_needed_make_dict = dict(zip(correction_needed_make_df['Make'], correction_needed_make_df['corrected_make']))\n",
    "\n",
    "## Need to be correct\n",
    "print(f'After 2nd iteration makes that need to be corrected -  {len(correction_needed_make_dict)}')\n"
   ]
  },
  {
   "cell_type": "code",
   "execution_count": 30,
   "id": "ffefdaa0-9cd6-486f-a3e1-de4f3e98a084",
   "metadata": {},
   "outputs": [
    {
     "name": "stdout",
     "output_type": "stream",
     "text": [
      "After 2nd iteration length of correct makes -  388\n"
     ]
    }
   ],
   "source": [
    "## Update correct make dict\n",
    "\n",
    "temp_df = dominant_makes_df[dominant_makes_df['corrected_make'] == '']\n",
    "correct_makes_dict = dict(zip(temp_df['Make'], temp_df['count']))\n",
    "correct_makes = dominant_makes_df[dominant_makes_df['corrected_make'] == '']['Make'].to_list()\n",
    "print(f'After 2nd iteration length of correct makes -  {len(correct_makes_dict)}')"
   ]
  },
  {
   "cell_type": "markdown",
   "id": "5a1a9226-eb76-4248-91fe-b3b8bec68b5b",
   "metadata": {},
   "source": [
    "### Correcting the rare makes"
   ]
  },
  {
   "cell_type": "code",
   "execution_count": 31,
   "id": "89ae629e-2307-48c8-b47c-d41c09db7276",
   "metadata": {
    "tags": []
   },
   "outputs": [],
   "source": [
    "rare_makes_df = rare_makes_df.copy()\n",
    "rare_makes_df.loc[:, 'corrected_make'] = rare_makes_df.apply(lambda x:get_best_match(x, correct_makes_dict), axis = 1)"
   ]
  },
  {
   "cell_type": "code",
   "execution_count": 32,
   "id": "539a205e-3bb8-4f6c-a08b-63e2640680b0",
   "metadata": {},
   "outputs": [],
   "source": [
    "# update needs to be corrected dict from step-1\n",
    "rare_corrected_make_df = rare_makes_df[rare_makes_df['corrected_make'] != '']\n",
    "rare_corrected_dict = dict(zip(rare_corrected_make_df['Make'], rare_corrected_make_df['corrected_make']))"
   ]
  },
  {
   "cell_type": "code",
   "execution_count": 33,
   "id": "08fa1fce-be1a-4ba1-ac9f-99a6d6cccad5",
   "metadata": {},
   "outputs": [
    {
     "name": "stdout",
     "output_type": "stream",
     "text": [
      "After 3rd iteration makes that need to be corrected -  4281\n"
     ]
    }
   ],
   "source": [
    "correction_needed_make_dict.update(rare_corrected_dict)\n",
    "print(f'After 3rd iteration makes that need to be corrected -  {len(correction_needed_make_dict)}')"
   ]
  },
  {
   "cell_type": "code",
   "execution_count": 34,
   "id": "3e8f6234-ef24-4e7a-9459-52454a00f7c3",
   "metadata": {},
   "outputs": [
    {
     "name": "stdout",
     "output_type": "stream",
     "text": [
      "After 3rd iteration length of correct makes -  7932\n"
     ]
    }
   ],
   "source": [
    "## Update correct make dict\n",
    "temp_df = rare_makes_df[rare_makes_df['corrected_make'] == '']\n",
    "rare_correct_makes_dict = dict(zip(temp_df['Make'], temp_df['count']))\n",
    "\n",
    "# rare_correct_makes = rare_makes_df[rare_makes_df['corrected_make'] == '']['Make'].to_list()\n",
    "correct_makes_dict.update(rare_correct_makes_dict)\n",
    "print(f'After 3rd iteration length of correct makes -  {len(correct_makes_dict)}')"
   ]
  },
  {
   "cell_type": "markdown",
   "id": "0ab21ad8-fde8-4689-b86f-9ad2e4598713",
   "metadata": {},
   "source": [
    "##### Summary:\n",
    "\n",
    "##### In total, out of ~12213 makes, ~ 7932 makes are correct and ~4281 makes needs to be corrected. "
   ]
  },
  {
   "cell_type": "markdown",
   "id": "d566572c-c8b0-46c2-81c8-207640447d12",
   "metadata": {},
   "source": [
    "### 3. Map erroneous Make values to correct Makes"
   ]
  },
  {
   "cell_type": "code",
   "execution_count": 35,
   "id": "03c7536d-ec91-4b42-8cbc-73f8975586f3",
   "metadata": {},
   "outputs": [],
   "source": [
    "mask = df_cleaned['Make'].isin(correction_needed_make_dict.keys())\n",
    "df_cleaned.loc[mask, 'Make'] = df_cleaned.loc[mask, 'Make'].map(correction_needed_make_dict)"
   ]
  },
  {
   "cell_type": "code",
   "execution_count": 36,
   "id": "7ab5b5eb-29a9-4e4f-8142-c883016cec26",
   "metadata": {},
   "outputs": [
    {
     "data": {
      "text/html": [
       "<div>\n",
       "<style scoped>\n",
       "    .dataframe tbody tr th:only-of-type {\n",
       "        vertical-align: middle;\n",
       "    }\n",
       "\n",
       "    .dataframe tbody tr th {\n",
       "        vertical-align: top;\n",
       "    }\n",
       "\n",
       "    .dataframe thead th {\n",
       "        text-align: right;\n",
       "    }\n",
       "</style>\n",
       "<table border=\"1\" class=\"dataframe\">\n",
       "  <thead>\n",
       "    <tr style=\"text-align: right;\">\n",
       "      <th></th>\n",
       "      <th>Make</th>\n",
       "      <th>Model</th>\n",
       "      <th>Count</th>\n",
       "      <th>make_length</th>\n",
       "      <th>model_length</th>\n",
       "      <th>only_digit_make</th>\n",
       "      <th>only_digit_models</th>\n",
       "      <th>only_special_chars_make</th>\n",
       "      <th>only_special_chars_model</th>\n",
       "    </tr>\n",
       "  </thead>\n",
       "  <tbody>\n",
       "    <tr>\n",
       "      <th>0</th>\n",
       "      <td>00 IEBERT</td>\n",
       "      <td>VS070AUA1E1046C</td>\n",
       "      <td>1</td>\n",
       "      <td>9</td>\n",
       "      <td>15.0</td>\n",
       "      <td>False</td>\n",
       "      <td>False</td>\n",
       "      <td>False</td>\n",
       "      <td>False</td>\n",
       "    </tr>\n",
       "    <tr>\n",
       "      <th>1</th>\n",
       "      <td>LIEBERT</td>\n",
       "      <td>CW181DC1A1S557</td>\n",
       "      <td>1</td>\n",
       "      <td>9</td>\n",
       "      <td>14.0</td>\n",
       "      <td>False</td>\n",
       "      <td>False</td>\n",
       "      <td>False</td>\n",
       "      <td>False</td>\n",
       "    </tr>\n",
       "    <tr>\n",
       "      <th>2</th>\n",
       "      <td>LIEBERT</td>\n",
       "      <td>CW181DC1A1S911</td>\n",
       "      <td>1</td>\n",
       "      <td>9</td>\n",
       "      <td>14.0</td>\n",
       "      <td>False</td>\n",
       "      <td>False</td>\n",
       "      <td>False</td>\n",
       "      <td>False</td>\n",
       "    </tr>\n",
       "    <tr>\n",
       "      <th>3</th>\n",
       "      <td>LIEBERT</td>\n",
       "      <td>DA150DP1AT909A</td>\n",
       "      <td>1</td>\n",
       "      <td>9</td>\n",
       "      <td>14.0</td>\n",
       "      <td>False</td>\n",
       "      <td>False</td>\n",
       "      <td>False</td>\n",
       "      <td>False</td>\n",
       "    </tr>\n",
       "    <tr>\n",
       "      <th>4</th>\n",
       "      <td>LIEBERT</td>\n",
       "      <td>PFH037A-AH7</td>\n",
       "      <td>1</td>\n",
       "      <td>9</td>\n",
       "      <td>11.0</td>\n",
       "      <td>False</td>\n",
       "      <td>False</td>\n",
       "      <td>False</td>\n",
       "      <td>False</td>\n",
       "    </tr>\n",
       "    <tr>\n",
       "      <th>...</th>\n",
       "      <td>...</td>\n",
       "      <td>...</td>\n",
       "      <td>...</td>\n",
       "      <td>...</td>\n",
       "      <td>...</td>\n",
       "      <td>...</td>\n",
       "      <td>...</td>\n",
       "      <td>...</td>\n",
       "      <td>...</td>\n",
       "    </tr>\n",
       "    <tr>\n",
       "      <th>1006518</th>\n",
       "      <td>321034807</td>\n",
       "      <td>Compact800</td>\n",
       "      <td>1</td>\n",
       "      <td>10</td>\n",
       "      <td>10.0</td>\n",
       "      <td>False</td>\n",
       "      <td>False</td>\n",
       "      <td>False</td>\n",
       "      <td>False</td>\n",
       "    </tr>\n",
       "    <tr>\n",
       "      <th>1006519</th>\n",
       "      <td>AO SMITH</td>\n",
       "      <td>ENT-50 110</td>\n",
       "      <td>1</td>\n",
       "      <td>6</td>\n",
       "      <td>10.0</td>\n",
       "      <td>False</td>\n",
       "      <td>False</td>\n",
       "      <td>False</td>\n",
       "      <td>False</td>\n",
       "    </tr>\n",
       "    <tr>\n",
       "      <th>1006520</th>\n",
       "      <td>AO SMITH</td>\n",
       "      <td>GCG-50 400</td>\n",
       "      <td>1</td>\n",
       "      <td>6</td>\n",
       "      <td>10.0</td>\n",
       "      <td>False</td>\n",
       "      <td>False</td>\n",
       "      <td>False</td>\n",
       "      <td>False</td>\n",
       "    </tr>\n",
       "    <tr>\n",
       "      <th>1006521</th>\n",
       "      <td>AO SMITH</td>\n",
       "      <td>GCRL-40 400</td>\n",
       "      <td>1</td>\n",
       "      <td>6</td>\n",
       "      <td>11.0</td>\n",
       "      <td>False</td>\n",
       "      <td>False</td>\n",
       "      <td>False</td>\n",
       "      <td>False</td>\n",
       "    </tr>\n",
       "    <tr>\n",
       "      <th>1006522</th>\n",
       "      <td>TRANE</td>\n",
       "      <td>CMPWPA221ALAEAAA</td>\n",
       "      <td>1</td>\n",
       "      <td>4</td>\n",
       "      <td>16.0</td>\n",
       "      <td>False</td>\n",
       "      <td>False</td>\n",
       "      <td>False</td>\n",
       "      <td>False</td>\n",
       "    </tr>\n",
       "  </tbody>\n",
       "</table>\n",
       "<p>1006523 rows × 9 columns</p>\n",
       "</div>"
      ],
      "text/plain": [
       "               Make             Model  Count  make_length  model_length  \\\n",
       "0         00 IEBERT   VS070AUA1E1046C      1            9          15.0   \n",
       "1           LIEBERT    CW181DC1A1S557      1            9          14.0   \n",
       "2           LIEBERT    CW181DC1A1S911      1            9          14.0   \n",
       "3           LIEBERT    DA150DP1AT909A      1            9          14.0   \n",
       "4           LIEBERT       PFH037A-AH7      1            9          11.0   \n",
       "...             ...               ...    ...          ...           ...   \n",
       "1006518   321034807        Compact800      1           10          10.0   \n",
       "1006519    AO SMITH        ENT-50 110      1            6          10.0   \n",
       "1006520    AO SMITH        GCG-50 400      1            6          10.0   \n",
       "1006521    AO SMITH       GCRL-40 400      1            6          11.0   \n",
       "1006522       TRANE  CMPWPA221ALAEAAA      1            4          16.0   \n",
       "\n",
       "         only_digit_make  only_digit_models  only_special_chars_make  \\\n",
       "0                  False              False                    False   \n",
       "1                  False              False                    False   \n",
       "2                  False              False                    False   \n",
       "3                  False              False                    False   \n",
       "4                  False              False                    False   \n",
       "...                  ...                ...                      ...   \n",
       "1006518            False              False                    False   \n",
       "1006519            False              False                    False   \n",
       "1006520            False              False                    False   \n",
       "1006521            False              False                    False   \n",
       "1006522            False              False                    False   \n",
       "\n",
       "        only_special_chars_model  \n",
       "0                          False  \n",
       "1                          False  \n",
       "2                          False  \n",
       "3                          False  \n",
       "4                          False  \n",
       "...                          ...  \n",
       "1006518                    False  \n",
       "1006519                    False  \n",
       "1006520                    False  \n",
       "1006521                    False  \n",
       "1006522                    False  \n",
       "\n",
       "[1006523 rows x 9 columns]"
      ]
     },
     "execution_count": 36,
     "metadata": {},
     "output_type": "execute_result"
    }
   ],
   "source": [
    "df_cleaned"
   ]
  },
  {
   "cell_type": "code",
   "execution_count": 37,
   "id": "379e2fd2-9552-4b81-9753-c886c5cdc837",
   "metadata": {},
   "outputs": [
    {
     "data": {
      "text/plain": [
       "7945"
      ]
     },
     "execution_count": 37,
     "metadata": {},
     "output_type": "execute_result"
    }
   ],
   "source": [
    "df_cleaned['Make'].nunique()"
   ]
  },
  {
   "cell_type": "code",
   "execution_count": 38,
   "id": "4527617e-8f9d-4b69-8bbc-6722f9d35395",
   "metadata": {},
   "outputs": [],
   "source": [
    "# fuzz.ratio('IANE', 'TRANE')\n",
    "# dominant_makes_df[dominant_makes_df['Make'].str.contains('^TRN', flags=re.I, regex=True)]"
   ]
  },
  {
   "cell_type": "markdown",
   "id": "2571e6e0-15f8-4d2a-b835-fb1a542baca7",
   "metadata": {},
   "source": [
    "### 4. Building a Predictive model"
   ]
  },
  {
   "cell_type": "code",
   "execution_count": 39,
   "id": "61f211e1-11c9-4bcc-978d-d9903545066b",
   "metadata": {},
   "outputs": [],
   "source": [
    "from sklearn.model_selection import train_test_split\n",
    "from sklearn.preprocessing import LabelEncoder\n",
    "from sklearn.metrics import classification_report, accuracy_score\n",
    "import xgboost as xgb\n",
    "\n",
    "from sklearn.ensemble import RandomForestClassifier\n",
    "from sklearn.metrics import classification_report, accuracy_score\n",
    "from sklearn.feature_extraction.text import TfidfVectorizer"
   ]
  },
  {
   "cell_type": "code",
   "execution_count": 40,
   "id": "d0b18cf0-f411-4d1e-a470-a1e1ff842cbe",
   "metadata": {},
   "outputs": [],
   "source": [
    "df_cleaned = df_cleaned.dropna(subset=['Model', 'Make'])  # Drop rows with missing values\n",
    "df_cleaned = df_cleaned[['Model', 'Make']]\n",
    "df_cleaned['Model'] = df_cleaned['Model'].fillna('').astype(str)   # Fill NaN with an empty string"
   ]
  },
  {
   "cell_type": "markdown",
   "id": "edb3a987-8b71-4e28-8c39-36a46e0167da",
   "metadata": {},
   "source": [
    "#### Text Vectorization:"
   ]
  },
  {
   "cell_type": "code",
   "execution_count": 41,
   "id": "ed461e05-9471-40ba-9ae3-9439e6dd651b",
   "metadata": {},
   "outputs": [],
   "source": [
    "from sklearn.feature_extraction.text import TfidfVectorizer\n",
    "\n",
    "tfidf = TfidfVectorizer(max_features=5000)  # Limit to 5000 features to avoid overfitting\n",
    "X = tfidf.fit_transform(df_cleaned['Model'])\n"
   ]
  },
  {
   "cell_type": "markdown",
   "id": "0eb26914-4f9b-469c-9117-bfd09926ae61",
   "metadata": {},
   "source": [
    "#### Label Encoding for Make"
   ]
  },
  {
   "cell_type": "code",
   "execution_count": 42,
   "id": "4917d26a-726a-40bb-bec0-d0974293e8cf",
   "metadata": {},
   "outputs": [],
   "source": [
    "from sklearn.preprocessing import LabelEncoder\n",
    "\n",
    "le = LabelEncoder()\n",
    "y = le.fit_transform(df_cleaned['Make'])  # Encode target labels\n"
   ]
  },
  {
   "cell_type": "markdown",
   "id": "3b1711e1-7260-40f3-bcd0-b4fcd1d9fae9",
   "metadata": {},
   "source": [
    "#### Train-Test Split"
   ]
  },
  {
   "cell_type": "code",
   "execution_count": 43,
   "id": "1768e540-5f85-4714-93c4-df776f868f90",
   "metadata": {},
   "outputs": [],
   "source": [
    "from sklearn.model_selection import train_test_split\n",
    "\n",
    "X_train, X_test, y_train, y_test = train_test_split(X, y, test_size=0.2, random_state=42)\n"
   ]
  },
  {
   "cell_type": "markdown",
   "id": "946eb2d6-95f7-47bf-b9a5-313c1ba7a70e",
   "metadata": {},
   "source": [
    "#### Train the Random Forest Model"
   ]
  },
  {
   "cell_type": "code",
   "execution_count": 96,
   "id": "0f0cb2a2-e217-4b96-824b-bf39ad7984f1",
   "metadata": {
    "collapsed": true,
    "jupyter": {
     "outputs_hidden": true
    },
    "tags": []
   },
   "outputs": [
    {
     "ename": "KeyboardInterrupt",
     "evalue": "",
     "output_type": "error",
     "traceback": [
      "\u001b[0;31m---------------------------------------------------------------------------\u001b[0m",
      "\u001b[0;31mKeyboardInterrupt\u001b[0m                         Traceback (most recent call last)",
      "\u001b[0;32m/var/folders/y_/lk9hq5c57rgbs80xq3cdfz_m0000gr/T/ipykernel_53413/1409378990.py\u001b[0m in \u001b[0;36m<module>\u001b[0;34m\u001b[0m\n\u001b[1;32m      3\u001b[0m \u001b[0;34m\u001b[0m\u001b[0m\n\u001b[1;32m      4\u001b[0m \u001b[0;31m# Fit the model on the training data\u001b[0m\u001b[0;34m\u001b[0m\u001b[0;34m\u001b[0m\u001b[0m\n\u001b[0;32m----> 5\u001b[0;31m \u001b[0mrf_model\u001b[0m\u001b[0;34m.\u001b[0m\u001b[0mfit\u001b[0m\u001b[0;34m(\u001b[0m\u001b[0mX_train\u001b[0m\u001b[0;34m,\u001b[0m \u001b[0my_train\u001b[0m\u001b[0;34m)\u001b[0m\u001b[0;34m\u001b[0m\u001b[0;34m\u001b[0m\u001b[0m\n\u001b[0m",
      "\u001b[0;32m/opt/anaconda3/lib/python3.9/site-packages/sklearn/ensemble/_forest.py\u001b[0m in \u001b[0;36mfit\u001b[0;34m(self, X, y, sample_weight)\u001b[0m\n\u001b[1;32m    448\u001b[0m             \u001b[0;31m# parallel_backend contexts set at a higher level,\u001b[0m\u001b[0;34m\u001b[0m\u001b[0;34m\u001b[0m\u001b[0m\n\u001b[1;32m    449\u001b[0m             \u001b[0;31m# since correctness does not rely on using threads.\u001b[0m\u001b[0;34m\u001b[0m\u001b[0;34m\u001b[0m\u001b[0m\n\u001b[0;32m--> 450\u001b[0;31m             trees = Parallel(\n\u001b[0m\u001b[1;32m    451\u001b[0m                 \u001b[0mn_jobs\u001b[0m\u001b[0;34m=\u001b[0m\u001b[0mself\u001b[0m\u001b[0;34m.\u001b[0m\u001b[0mn_jobs\u001b[0m\u001b[0;34m,\u001b[0m\u001b[0;34m\u001b[0m\u001b[0;34m\u001b[0m\u001b[0m\n\u001b[1;32m    452\u001b[0m                 \u001b[0mverbose\u001b[0m\u001b[0;34m=\u001b[0m\u001b[0mself\u001b[0m\u001b[0;34m.\u001b[0m\u001b[0mverbose\u001b[0m\u001b[0;34m,\u001b[0m\u001b[0;34m\u001b[0m\u001b[0;34m\u001b[0m\u001b[0m\n",
      "\u001b[0;32m/opt/anaconda3/lib/python3.9/site-packages/joblib/parallel.py\u001b[0m in \u001b[0;36m__call__\u001b[0;34m(self, iterable)\u001b[0m\n\u001b[1;32m   1916\u001b[0m             \u001b[0moutput\u001b[0m \u001b[0;34m=\u001b[0m \u001b[0mself\u001b[0m\u001b[0;34m.\u001b[0m\u001b[0m_get_sequential_output\u001b[0m\u001b[0;34m(\u001b[0m\u001b[0miterable\u001b[0m\u001b[0;34m)\u001b[0m\u001b[0;34m\u001b[0m\u001b[0;34m\u001b[0m\u001b[0m\n\u001b[1;32m   1917\u001b[0m             \u001b[0mnext\u001b[0m\u001b[0;34m(\u001b[0m\u001b[0moutput\u001b[0m\u001b[0;34m)\u001b[0m\u001b[0;34m\u001b[0m\u001b[0;34m\u001b[0m\u001b[0m\n\u001b[0;32m-> 1918\u001b[0;31m             \u001b[0;32mreturn\u001b[0m \u001b[0moutput\u001b[0m \u001b[0;32mif\u001b[0m \u001b[0mself\u001b[0m\u001b[0;34m.\u001b[0m\u001b[0mreturn_generator\u001b[0m \u001b[0;32melse\u001b[0m \u001b[0mlist\u001b[0m\u001b[0;34m(\u001b[0m\u001b[0moutput\u001b[0m\u001b[0;34m)\u001b[0m\u001b[0;34m\u001b[0m\u001b[0;34m\u001b[0m\u001b[0m\n\u001b[0m\u001b[1;32m   1919\u001b[0m \u001b[0;34m\u001b[0m\u001b[0m\n\u001b[1;32m   1920\u001b[0m         \u001b[0;31m# Let's create an ID that uniquely identifies the current call. If the\u001b[0m\u001b[0;34m\u001b[0m\u001b[0;34m\u001b[0m\u001b[0m\n",
      "\u001b[0;32m/opt/anaconda3/lib/python3.9/site-packages/joblib/parallel.py\u001b[0m in \u001b[0;36m_get_sequential_output\u001b[0;34m(self, iterable)\u001b[0m\n\u001b[1;32m   1845\u001b[0m                 \u001b[0mself\u001b[0m\u001b[0;34m.\u001b[0m\u001b[0mn_dispatched_batches\u001b[0m \u001b[0;34m+=\u001b[0m \u001b[0;36m1\u001b[0m\u001b[0;34m\u001b[0m\u001b[0;34m\u001b[0m\u001b[0m\n\u001b[1;32m   1846\u001b[0m                 \u001b[0mself\u001b[0m\u001b[0;34m.\u001b[0m\u001b[0mn_dispatched_tasks\u001b[0m \u001b[0;34m+=\u001b[0m \u001b[0;36m1\u001b[0m\u001b[0;34m\u001b[0m\u001b[0;34m\u001b[0m\u001b[0m\n\u001b[0;32m-> 1847\u001b[0;31m                 \u001b[0mres\u001b[0m \u001b[0;34m=\u001b[0m \u001b[0mfunc\u001b[0m\u001b[0;34m(\u001b[0m\u001b[0;34m*\u001b[0m\u001b[0margs\u001b[0m\u001b[0;34m,\u001b[0m \u001b[0;34m**\u001b[0m\u001b[0mkwargs\u001b[0m\u001b[0;34m)\u001b[0m\u001b[0;34m\u001b[0m\u001b[0;34m\u001b[0m\u001b[0m\n\u001b[0m\u001b[1;32m   1848\u001b[0m                 \u001b[0mself\u001b[0m\u001b[0;34m.\u001b[0m\u001b[0mn_completed_tasks\u001b[0m \u001b[0;34m+=\u001b[0m \u001b[0;36m1\u001b[0m\u001b[0;34m\u001b[0m\u001b[0;34m\u001b[0m\u001b[0m\n\u001b[1;32m   1849\u001b[0m                 \u001b[0mself\u001b[0m\u001b[0;34m.\u001b[0m\u001b[0mprint_progress\u001b[0m\u001b[0;34m(\u001b[0m\u001b[0;34m)\u001b[0m\u001b[0;34m\u001b[0m\u001b[0;34m\u001b[0m\u001b[0m\n",
      "\u001b[0;32m/opt/anaconda3/lib/python3.9/site-packages/sklearn/utils/fixes.py\u001b[0m in \u001b[0;36m__call__\u001b[0;34m(self, *args, **kwargs)\u001b[0m\n\u001b[1;32m    214\u001b[0m     \u001b[0;32mdef\u001b[0m \u001b[0m__call__\u001b[0m\u001b[0;34m(\u001b[0m\u001b[0mself\u001b[0m\u001b[0;34m,\u001b[0m \u001b[0;34m*\u001b[0m\u001b[0margs\u001b[0m\u001b[0;34m,\u001b[0m \u001b[0;34m**\u001b[0m\u001b[0mkwargs\u001b[0m\u001b[0;34m)\u001b[0m\u001b[0;34m:\u001b[0m\u001b[0;34m\u001b[0m\u001b[0;34m\u001b[0m\u001b[0m\n\u001b[1;32m    215\u001b[0m         \u001b[0;32mwith\u001b[0m \u001b[0mconfig_context\u001b[0m\u001b[0;34m(\u001b[0m\u001b[0;34m**\u001b[0m\u001b[0mself\u001b[0m\u001b[0;34m.\u001b[0m\u001b[0mconfig\u001b[0m\u001b[0;34m)\u001b[0m\u001b[0;34m:\u001b[0m\u001b[0;34m\u001b[0m\u001b[0;34m\u001b[0m\u001b[0m\n\u001b[0;32m--> 216\u001b[0;31m             \u001b[0;32mreturn\u001b[0m \u001b[0mself\u001b[0m\u001b[0;34m.\u001b[0m\u001b[0mfunction\u001b[0m\u001b[0;34m(\u001b[0m\u001b[0;34m*\u001b[0m\u001b[0margs\u001b[0m\u001b[0;34m,\u001b[0m \u001b[0;34m**\u001b[0m\u001b[0mkwargs\u001b[0m\u001b[0;34m)\u001b[0m\u001b[0;34m\u001b[0m\u001b[0;34m\u001b[0m\u001b[0m\n\u001b[0m\u001b[1;32m    217\u001b[0m \u001b[0;34m\u001b[0m\u001b[0m\n\u001b[1;32m    218\u001b[0m \u001b[0;34m\u001b[0m\u001b[0m\n",
      "\u001b[0;32m/opt/anaconda3/lib/python3.9/site-packages/sklearn/ensemble/_forest.py\u001b[0m in \u001b[0;36m_parallel_build_trees\u001b[0;34m(tree, forest, X, y, sample_weight, tree_idx, n_trees, verbose, class_weight, n_samples_bootstrap)\u001b[0m\n\u001b[1;32m    183\u001b[0m             \u001b[0mcurr_sample_weight\u001b[0m \u001b[0;34m*=\u001b[0m \u001b[0mcompute_sample_weight\u001b[0m\u001b[0;34m(\u001b[0m\u001b[0;34m\"balanced\"\u001b[0m\u001b[0;34m,\u001b[0m \u001b[0my\u001b[0m\u001b[0;34m,\u001b[0m \u001b[0mindices\u001b[0m\u001b[0;34m=\u001b[0m\u001b[0mindices\u001b[0m\u001b[0;34m)\u001b[0m\u001b[0;34m\u001b[0m\u001b[0;34m\u001b[0m\u001b[0m\n\u001b[1;32m    184\u001b[0m \u001b[0;34m\u001b[0m\u001b[0m\n\u001b[0;32m--> 185\u001b[0;31m         \u001b[0mtree\u001b[0m\u001b[0;34m.\u001b[0m\u001b[0mfit\u001b[0m\u001b[0;34m(\u001b[0m\u001b[0mX\u001b[0m\u001b[0;34m,\u001b[0m \u001b[0my\u001b[0m\u001b[0;34m,\u001b[0m \u001b[0msample_weight\u001b[0m\u001b[0;34m=\u001b[0m\u001b[0mcurr_sample_weight\u001b[0m\u001b[0;34m,\u001b[0m \u001b[0mcheck_input\u001b[0m\u001b[0;34m=\u001b[0m\u001b[0;32mFalse\u001b[0m\u001b[0;34m)\u001b[0m\u001b[0;34m\u001b[0m\u001b[0;34m\u001b[0m\u001b[0m\n\u001b[0m\u001b[1;32m    186\u001b[0m     \u001b[0;32melse\u001b[0m\u001b[0;34m:\u001b[0m\u001b[0;34m\u001b[0m\u001b[0;34m\u001b[0m\u001b[0m\n\u001b[1;32m    187\u001b[0m         \u001b[0mtree\u001b[0m\u001b[0;34m.\u001b[0m\u001b[0mfit\u001b[0m\u001b[0;34m(\u001b[0m\u001b[0mX\u001b[0m\u001b[0;34m,\u001b[0m \u001b[0my\u001b[0m\u001b[0;34m,\u001b[0m \u001b[0msample_weight\u001b[0m\u001b[0;34m=\u001b[0m\u001b[0msample_weight\u001b[0m\u001b[0;34m,\u001b[0m \u001b[0mcheck_input\u001b[0m\u001b[0;34m=\u001b[0m\u001b[0;32mFalse\u001b[0m\u001b[0;34m)\u001b[0m\u001b[0;34m\u001b[0m\u001b[0;34m\u001b[0m\u001b[0m\n",
      "\u001b[0;32m/opt/anaconda3/lib/python3.9/site-packages/sklearn/tree/_classes.py\u001b[0m in \u001b[0;36mfit\u001b[0;34m(self, X, y, sample_weight, check_input, X_idx_sorted)\u001b[0m\n\u001b[1;32m    935\u001b[0m         \"\"\"\n\u001b[1;32m    936\u001b[0m \u001b[0;34m\u001b[0m\u001b[0m\n\u001b[0;32m--> 937\u001b[0;31m         super().fit(\n\u001b[0m\u001b[1;32m    938\u001b[0m             \u001b[0mX\u001b[0m\u001b[0;34m,\u001b[0m\u001b[0;34m\u001b[0m\u001b[0;34m\u001b[0m\u001b[0m\n\u001b[1;32m    939\u001b[0m             \u001b[0my\u001b[0m\u001b[0;34m,\u001b[0m\u001b[0;34m\u001b[0m\u001b[0;34m\u001b[0m\u001b[0m\n",
      "\u001b[0;32m/opt/anaconda3/lib/python3.9/site-packages/sklearn/tree/_classes.py\u001b[0m in \u001b[0;36mfit\u001b[0;34m(self, X, y, sample_weight, check_input, X_idx_sorted)\u001b[0m\n\u001b[1;32m    418\u001b[0m             )\n\u001b[1;32m    419\u001b[0m \u001b[0;34m\u001b[0m\u001b[0m\n\u001b[0;32m--> 420\u001b[0;31m         \u001b[0mbuilder\u001b[0m\u001b[0;34m.\u001b[0m\u001b[0mbuild\u001b[0m\u001b[0;34m(\u001b[0m\u001b[0mself\u001b[0m\u001b[0;34m.\u001b[0m\u001b[0mtree_\u001b[0m\u001b[0;34m,\u001b[0m \u001b[0mX\u001b[0m\u001b[0;34m,\u001b[0m \u001b[0my\u001b[0m\u001b[0;34m,\u001b[0m \u001b[0msample_weight\u001b[0m\u001b[0;34m)\u001b[0m\u001b[0;34m\u001b[0m\u001b[0;34m\u001b[0m\u001b[0m\n\u001b[0m\u001b[1;32m    421\u001b[0m \u001b[0;34m\u001b[0m\u001b[0m\n\u001b[1;32m    422\u001b[0m         \u001b[0;32mif\u001b[0m \u001b[0mself\u001b[0m\u001b[0;34m.\u001b[0m\u001b[0mn_outputs_\u001b[0m \u001b[0;34m==\u001b[0m \u001b[0;36m1\u001b[0m \u001b[0;32mand\u001b[0m \u001b[0mis_classifier\u001b[0m\u001b[0;34m(\u001b[0m\u001b[0mself\u001b[0m\u001b[0;34m)\u001b[0m\u001b[0;34m:\u001b[0m\u001b[0;34m\u001b[0m\u001b[0;34m\u001b[0m\u001b[0m\n",
      "\u001b[0;31mKeyboardInterrupt\u001b[0m: "
     ]
    }
   ],
   "source": [
    "# Create the Random Forest model\n",
    "rf_model = RandomForestClassifier(n_estimators=100, random_state=42)\n",
    "\n",
    "# Fit the model on the training data\n",
    "rf_model.fit(X_train, y_train)\n",
    "\n",
    "# XG BOOST model\n",
    "\n",
    "# # Create the XGBoost model\n",
    "# model = xgb.XGBClassifier(use_label_encoder=False, eval_metric='mlogloss')\n",
    "\n",
    "# # Fit the model on the training data\n",
    "# model.fit(X_train, y_train)\n"
   ]
  },
  {
   "cell_type": "code",
   "execution_count": null,
   "id": "f59e252c-29ee-4aaf-b948-ab6998bf2a81",
   "metadata": {},
   "outputs": [],
   "source": [
    "# Make predictions on the test data\n",
    "y_pred = rf_model.predict(X_test)\n",
    "\n",
    "# Evaluate the model\n",
    "print(\"Accuracy:\", accuracy_score(y_test, y_pred))\n",
    "print(classification_report(y_test, y_pred, target_names=label_encoder.classes_))\n"
   ]
  },
  {
   "cell_type": "markdown",
   "id": "2ebd2d96-c28e-4d1d-8d4b-35782be1e67e",
   "metadata": {},
   "source": [
    "### 5. If additional time is available, these are the few important steps that I would be focussing on:\n",
    "\n",
    "##### 1. Perform additional EDA steps by adding more visualizations e.g work cloud etc.\n",
    "##### 2. Add parallel processing steps at loading and other stages where computation is intensive \n",
    "##### 3. Experiment with other mapping stragies to find the best match btw error makes vs correct makes\n",
    "##### 4. Experiment with various ML/DL models for better training and accuracy.\n",
    "##### 5. Evaluate the model and apply hyper paramter tuning for improving the accuracy.\n",
    "##### 5. Organize the code better within functions with inline comments\n",
    "##### 6. Add more details to \"Readme\" file"
   ]
  },
  {
   "cell_type": "code",
   "execution_count": null,
   "id": "156d2934-9738-4d44-a958-c41d139ba2ab",
   "metadata": {},
   "outputs": [],
   "source": []
  }
 ],
 "metadata": {
  "kernelspec": {
   "display_name": "Python 3 (ipykernel)",
   "language": "python",
   "name": "python3"
  },
  "language_info": {
   "codemirror_mode": {
    "name": "ipython",
    "version": 3
   },
   "file_extension": ".py",
   "mimetype": "text/x-python",
   "name": "python",
   "nbconvert_exporter": "python",
   "pygments_lexer": "ipython3",
   "version": "3.9.13"
  }
 },
 "nbformat": 4,
 "nbformat_minor": 5
}
